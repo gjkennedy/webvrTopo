{
 "cells": [
  {
   "cell_type": "code",
   "execution_count": 2,
   "metadata": {},
   "outputs": [
    {
     "data": {
      "application/vnd.jupyter.widget-view+json": {
       "model_id": "bd1c4b02e15842cea461158491a2e09b",
       "version_major": 2,
       "version_minor": 0
      },
      "text/plain": [
       "Renderer(camera=PerspectiveCamera(aspect=2.375, position=(25.0, 25.0, 25.0), quaternion=(0.0, 0.0, 0.0, 1.0), …"
      ]
     },
     "metadata": {},
     "output_type": "display_data"
    }
   ],
   "source": [
    "import pythreejs\n",
    "from ipywidgets import Text, Output, VBox, embed\n",
    "from IPython.display import display\n",
    "import numpy as np\n",
    "import matplotlib\n",
    "import matplotlib.pylab as plt\n",
    "from tacs import TACS\n",
    "\n",
    "# Load the data\n",
    "loader = TACS.FH5Loader()\n",
    "loader.loadData('output64.f5')\n",
    "\n",
    "# Get the colormap from matplotlib\n",
    "cmap = plt.cm.get_cmap('coolwarm')\n",
    "\n",
    "# Determine which elements to mask out based on the design variable value\n",
    "upper = 0.5\n",
    "val_mask = loader.computeValueMask(TACS.HEXA_ELEMENT, 'dv1', upper=upper)\n",
    "\n",
    "# Get the iso-surface values\n",
    "isoval_objs = []\n",
    "x = np.linspace(0.1, 49.9, 50)\n",
    "for isoval in x:\n",
    "    tris = loader.getIsoSurfaces(TACS.HEXA_ELEMENT, isoval, 'X', mask=val_mask)\n",
    "\n",
    "    # Create the face buffer \n",
    "    isoval_pos = pythreejs.BufferAttribute(tris.reshape(-1,3))\n",
    "    isoval_buff = pythreejs.BufferGeometry(attributes={'position': isoval_pos})\n",
    "\n",
    "    # Create the threejs objects\n",
    "    hcolor = matplotlib.colors.to_hex(cmap(isoval/(np.max(x) - np.min(x))))\n",
    "    isoval_mat = pythreejs.MeshLambertMaterial(side='DoubleSide',\n",
    "                                               color=hcolor,\n",
    "                                               transparent=True,\n",
    "                                               opacity=0.75)\n",
    "    isoval_objs.append(pythreejs.Mesh(isoval_buff, isoval_mat))\n",
    "    \n",
    "\n",
    "# Set the width and height of the view area\n",
    "view_width = 950\n",
    "view_height = 400\n",
    "\n",
    "# Set the target for the camera\n",
    "target = [25.0, 5.0, 5.0]\n",
    "camera = pythreejs.PerspectiveCamera(position=[25, 25, 25],\n",
    "                                     aspect=view_width/view_height)\n",
    "\n",
    "# Set up both an ambient light\n",
    "ambient_light = pythreejs.AmbientLight()\n",
    "key_light = pythreejs.DirectionalLight(position=[-25, -25, -25], intensity=0.7)\n",
    "\n",
    "# Create the scene and include the objects and light\n",
    "objs = [ambient_light, key_light]\n",
    "objs.extend(isoval_objs)\n",
    "scene = pythreejs.Scene(children=objs, background='black')\n",
    "\n",
    "# Set an orbit controller \n",
    "controller = pythreejs.OrbitControls(controlling=camera, target=target,\n",
    "                                     minPolarAngle=np.pi/4, maxPolarAngle=3*np.pi/4)\n",
    "\n",
    "# Render the result\n",
    "renderer = pythreejs.Renderer(camera=camera, antialias=True,\n",
    "                              scene=scene, controls=[controller],\n",
    "                              width=view_width, height=view_height)\n",
    "\n",
    "renderer"
   ]
  },
  {
   "cell_type": "code",
   "execution_count": null,
   "metadata": {},
   "outputs": [],
   "source": []
  }
 ],
 "metadata": {
  "kernelspec": {
   "display_name": "Python 3",
   "language": "python",
   "name": "python3"
  },
  "language_info": {
   "codemirror_mode": {
    "name": "ipython",
    "version": 3
   },
   "file_extension": ".py",
   "mimetype": "text/x-python",
   "name": "python",
   "nbconvert_exporter": "python",
   "pygments_lexer": "ipython3",
   "version": "3.7.7"
  }
 },
 "nbformat": 4,
 "nbformat_minor": 4
}
