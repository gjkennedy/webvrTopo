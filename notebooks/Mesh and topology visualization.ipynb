{
 "cells": [
  {
   "cell_type": "code",
   "execution_count": 5,
   "metadata": {},
   "outputs": [
    {
     "data": {
      "application/vnd.jupyter.widget-view+json": {
       "model_id": "8424012a0d05454aa8f63f2ba175c609",
       "version_major": 2,
       "version_minor": 0
      },
      "text/plain": [
       "Renderer(camera=PerspectiveCamera(aspect=2.375, position=(25.0, 25.0, 25.0), quaternion=(0.0, 0.0, 0.0, 1.0), …"
      ]
     },
     "metadata": {},
     "output_type": "display_data"
    }
   ],
   "source": [
    "import pythreejs\n",
    "from ipywidgets import Text, Output, VBox, embed\n",
    "from IPython.display import display\n",
    "import numpy as np\n",
    "import matplotlib\n",
    "import matplotlib.pylab as plt\n",
    "from tacs import TACS\n",
    "\n",
    "# Load the data\n",
    "loader = TACS.FH5Loader()\n",
    "loader.loadData('output64.f5')\n",
    "\n",
    "# Determine which elements to mask out based on the design variable value\n",
    "upper = 0.5\n",
    "val_mask = loader.computeValueMask(TACS.HEXA_ELEMENT, 'dv1', upper=upper)\n",
    "\n",
    "# Determine which elements to mask based on centroid location\n",
    "base = [15.0, 5.0, 5.0]\n",
    "normal = [1.0, 2.0, -2.0]\n",
    "pos_mask1 = loader.computePlanarMask(TACS.HEXA_ELEMENT, base, normal)\n",
    "\n",
    "base = [17.0, 5.0, 5.0]\n",
    "normal = [1.0, 0.0, 0.0]\n",
    "pos_mask2 = loader.computePlanarMask(TACS.HEXA_ELEMENT, base, normal)\n",
    "\n",
    "# Combine the mask by finding those elements that are masked by both \n",
    "mask = val_mask*(pos_mask1 + pos_mask2)\n",
    "\n",
    "# Compute the visible edges and faces for visualization\n",
    "pts, edges, tris, values = loader.getUnmatchedEdgesAndFaces(TACS.HEXA_ELEMENT,\n",
    "                                                            name='dv1', mask=mask)\n",
    "\n",
    "# Create the color map for the visible part of the topology\n",
    "cmap = plt.cm.get_cmap('YlGn')\n",
    "colors = cmap(values)\n",
    "colors = np.array(colors[:,:3], dtype=np.float32)\n",
    "face_colors = pythreejs.BufferAttribute(colors)\n",
    "\n",
    "# Create the nodes - shared between triangles and edges\n",
    "node_pos = pythreejs.BufferAttribute(pts.reshape(-1,3))\n",
    "\n",
    "# Create the faces for visualization\n",
    "face_indices = pythreejs.BufferAttribute(np.array(tris, dtype=np.uint32))\n",
    "face_buff = pythreejs.BufferGeometry(attributes={'index': face_indices,\n",
    "                                                 'position': node_pos,\n",
    "                                                 'color': face_colors})\n",
    "face_mat = pythreejs.MeshLambertMaterial(side='DoubleSide',\n",
    "                                         vertexColors='VertexColors')\n",
    "face_objs = pythreejs.Mesh(face_buff, face_mat)\n",
    "\n",
    "# Create the edges for visualization\n",
    "edge_indices = pythreejs.BufferAttribute(np.array(edges, dtype=np.uint32))\n",
    "line_segments = pythreejs.BufferGeometry(attributes={'index': edge_indices,\n",
    "                                                     'position': node_pos})\n",
    "line_mat = pythreejs.LineBasicMaterial(color='black')\n",
    "line_objs = pythreejs.LineSegments(line_segments, line_mat)\n",
    "\n",
    "# Set the width and height of the view area\n",
    "view_width = 950\n",
    "view_height = 400\n",
    "\n",
    "# Set the target for the camera\n",
    "target = [25.0, 5.0, 5.0]\n",
    "camera = pythreejs.PerspectiveCamera(position=[25, 25, 25],\n",
    "                                     aspect=view_width/view_height)\n",
    "\n",
    "# Set up both an ambient light\n",
    "ambient_light = pythreejs.AmbientLight()\n",
    "key_light = pythreejs.DirectionalLight(position=[-25, -25, -25], intensity=0.7)\n",
    "\n",
    "# Create the scene and include the objects and light\n",
    "objs = [line_objs, face_objs, ambient_light, key_light]\n",
    "scene = pythreejs.Scene(children=objs, background='#72645b')\n",
    "\n",
    "# Set an orbit controller \n",
    "controller = pythreejs.OrbitControls(controlling=camera, target=target,\n",
    "                                     minPolarAngle=np.pi/4, maxPolarAngle=3*np.pi/4)\n",
    "\n",
    "# Render the result\n",
    "renderer = pythreejs.Renderer(camera=camera, antialias=True,\n",
    "                              scene=scene, controls=[controller],\n",
    "                              width=view_width, height=view_height)\n",
    "\n",
    "embed.embed_minimal_html('export.html', views=renderer)\n",
    "\n",
    "renderer\n"
   ]
  },
  {
   "cell_type": "code",
   "execution_count": null,
   "metadata": {},
   "outputs": [],
   "source": []
  }
 ],
 "metadata": {
  "kernelspec": {
   "display_name": "Python 3",
   "language": "python",
   "name": "python3"
  },
  "language_info": {
   "codemirror_mode": {
    "name": "ipython",
    "version": 3
   },
   "file_extension": ".py",
   "mimetype": "text/x-python",
   "name": "python",
   "nbconvert_exporter": "python",
   "pygments_lexer": "ipython3",
   "version": "3.7.7"
  }
 },
 "nbformat": 4,
 "nbformat_minor": 4
}
